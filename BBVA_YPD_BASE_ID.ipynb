{
 "cells": [
  {
   "cell_type": "code",
   "execution_count": 159,
   "metadata": {},
   "outputs": [
    {
     "name": "stdout",
     "output_type": "stream",
     "text": [
      "CLIENTE_CC            object\n",
      "FECHA_ALTA            object\n",
      "FECHA_NACIMIENTO      object\n",
      "SEXO                  object\n",
      "ESTADO_CIVIL          object\n",
      "SITUACION_LABORAL     object\n",
      "fuga                 float64\n",
      "MES_DE_FUGA           object\n",
      "dtype: object\n",
      "  CLIENTE_CC FECHA_ALTA FECHA_NACIMIENTO    SEXO ESTADO_CIVIL  \\\n",
      "0       1,00  sep301996         19300823       F       CASADO   \n",
      "1       2,00  may011986         19530630  HOMBRE  UNION LIBRE   \n",
      "2       3,00  dic011994         19540721       F  UNION LIBRE   \n",
      "3       4,00  ago271997         19390503       M       CASADO   \n",
      "4       5,00  jul211997         19311013       F       CASADO   \n",
      "\n",
      "    SITUACION_LABORAL  fuga MES_DE_FUGA  \n",
      "0               otros   1.0           2  \n",
      "1       Contrato fijo   NaN         NaN  \n",
      "2               OTROS   1.0          11  \n",
      "3               OTROS   NaN         NaN  \n",
      "4  contrato autonomo.   NaN         NaN  \n"
     ]
    }
   ],
   "source": [
    "#Este notebook contiene el código utilizado para el análisis de la Base \"Base_ID.txt\". Contiene la explicación de\n",
    "#los pasos llevados a cabo para solucionar el problema analíticamente.\n",
    "\n",
    "#Se importan las librerías que serán utilizadas para resolver el problema.\n",
    "import pandas as pd\n",
    "import numpy as np\n",
    "from datetime import datetime\n",
    "\n",
    "#Se cargan los datos y se asigna a una variable, se imprimen los tipos de datos, para empezar a entender los datos\n",
    "#que componen la base de datos.\n",
    "Base_ID=pd.read_csv('YPD_LuisBuitragoR/BASE_ID.txt',delimiter='\\t',infer_datetime_format=True)\n",
    "print (Base_ID.dtypes)\n",
    "print (Base_ID.head())\n"
   ]
  },
  {
   "cell_type": "code",
   "execution_count": 160,
   "metadata": {},
   "outputs": [
    {
     "name": "stdout",
     "output_type": "stream",
     "text": [
      "  CLIENTE_CC FECHA_ALTA FECHA_NACIMIENTO    SEXO ESTADO_CIVIL  \\\n",
      "0          1  sep301996         19300823       F       CASADO   \n",
      "1          2  may011986         19530630  HOMBRE  UNION LIBRE   \n",
      "2          3  dic011994         19540721       F  UNION LIBRE   \n",
      "3          4  ago271997         19390503       M       CASADO   \n",
      "4          5  jul211997         19311013       F       CASADO   \n",
      "\n",
      "    SITUACION_LABORAL  fuga MES_DE_FUGA  \n",
      "0               otros   1.0           2  \n",
      "1       Contrato fijo   NaN         NaN  \n",
      "2               OTROS   1.0          11  \n",
      "3               OTROS   NaN         NaN  \n",
      "4  contrato autonomo.   NaN         NaN  \n"
     ]
    }
   ],
   "source": [
    "# Entendiendo las columnas que componen el dataframe recién creado, se pueden quitar los decimales de Cliente_CC\n",
    "Base_ID['CLIENTE_CC']=Base_ID['CLIENTE_CC'].astype(str)\n",
    "Base_ID['CLIENTE_CC']=Base_ID['CLIENTE_CC'].map(lambda x: str(x)[:-3])\n",
    "print (Base_ID.head())"
   ]
  },
  {
   "cell_type": "code",
   "execution_count": 161,
   "metadata": {},
   "outputs": [
    {
     "name": "stdout",
     "output_type": "stream",
     "text": [
      "0     9-30-1996\n",
      "1     5-01-1986\n",
      "2    12-01-1994\n",
      "3     8-27-1997\n",
      "4     7-21-1997\n",
      "Name: FECHA_ALTA, dtype: object\n",
      "0   1996-09-30\n",
      "1   1986-05-01\n",
      "2   1994-12-01\n",
      "3   1997-08-27\n",
      "4   1997-07-21\n",
      "Name: FECHA_ALTA, dtype: datetime64[ns]\n"
     ]
    }
   ],
   "source": [
    "#Para organizar fecha Alta, se divide en mes, día y año, para reemplazar los caracteres de meses por números\n",
    "#El objetivo de esto es poder convertirlo a formato de fecha para su posterior análisis. \n",
    "\n",
    "fecha_alta=Base_ID['FECHA_ALTA']\n",
    "mes_fecha_alta=fecha_alta.map(lambda x:str(x)[0:3])\n",
    "dia_fecha_alta=fecha_alta.map(lambda x:str(x)[3:5])\n",
    "año_fecha_alta=fecha_alta.map(lambda x:str(x)[5:])\n",
    "months=('ene','feb','mar','abr','may','jun','jul','ago','sep','oct','nov','dic')\n",
    "months2=(1,2,3,4,5,6,7,8,9,10,11,12)\n",
    "\n",
    "#Después de reemplazar todo por números, se vuelve a unir la cadena de caracteres, para después convertir a formato de fecha\n",
    "mes_fecha_alta=mes_fecha_alta.replace(months,months2)\n",
    "fecha1= mes_fecha_alta.astype(str).str.cat(dia_fecha_alta.astype(str), sep='-')\n",
    "Base_ID['FECHA_ALTA']=fecha1.str.cat(año_fecha_alta.astype(str), sep='-')\n",
    "\n",
    "#El antes de como queda esta columna\n",
    "print(Base_ID['FECHA_ALTA'].head())\n",
    "Base_ID['FECHA_ALTA'] = pd.to_datetime(Base_ID['FECHA_ALTA'], format='%m-%d-%Y')\n",
    "\n",
    "#El después de como quedó esta columna\n",
    "print(Base_ID['FECHA_ALTA'].head())"
   ]
  },
  {
   "cell_type": "code",
   "execution_count": 162,
   "metadata": {},
   "outputs": [
    {
     "name": "stdout",
     "output_type": "stream",
     "text": [
      "0    08-23-1930\n",
      "1    06-30-1953\n",
      "2    07-21-1954\n",
      "3    05-03-1939\n",
      "4    10-13-1931\n",
      "Name: FECHA_NACIMIENTO, dtype: object\n",
      "0   1930-08-23\n",
      "1   1953-06-30\n",
      "2   1954-07-21\n",
      "3   1939-05-03\n",
      "4   1931-10-13\n",
      "Name: FECHA_NACIMIENTO, dtype: datetime64[ns]\n"
     ]
    }
   ],
   "source": [
    "#Se realiza el mismo procedimiento que para FECHA_ALTA\n",
    "fecha_nacimiento=Base_ID['FECHA_NACIMIENTO']\n",
    "\n",
    "#Se reemplaza el valor que no está en el formato, por un número aleatorio, en este caso mi fecha de nacimiento para recordarlo\n",
    "fecha_nacimiento=fecha_nacimiento.replace(regex='0001-01-01',value=19940503)\n",
    "\n",
    "#Se divide en mes fecha y año, para poner en el mismo orden de Fecha_Nacimiento y hacer más consistente\n",
    "#Toda la información en cuanto a formato\n",
    "\n",
    "año_fecha_nacimiento=fecha_nacimiento.map(lambda x:str(x)[0:4])\n",
    "mes_fecha_nacimiento=fecha_nacimiento.map(lambda x:str(x)[4:6])\n",
    "dia_fecha_nacimiento=fecha_nacimiento.map(lambda x:str(x)[6:8])\n",
    "fecha2= mes_fecha_nacimiento.astype(str).str.cat(dia_fecha_nacimiento.astype(str), sep='-')\n",
    "Base_ID['FECHA_NACIMIENTO']=fecha2.str.cat(año_fecha_nacimiento.astype(str), sep='-')\n",
    "\n",
    "#Se imprime el antes de como queda, después de unir los valores por mes-día-año\n",
    "print(Base_ID['FECHA_NACIMIENTO'].head())\n",
    "Base_ID['FECHA_NACIMIENTO'] = pd.to_datetime(Base_ID['FECHA_NACIMIENTO'], format='%m-%d-%Y')\n",
    "\n",
    "#Se imprimen primeros valores para verificar el tipo datetime64 y que quedó en el mismo forato de FECHA_ALTA\n",
    "print(Base_ID['FECHA_NACIMIENTO'].head())\n"
   ]
  },
  {
   "cell_type": "code",
   "execution_count": 163,
   "metadata": {},
   "outputs": [
    {
     "name": "stdout",
     "output_type": "stream",
     "text": [
      "0         F\n",
      "1    HOMBRE\n",
      "2         F\n",
      "3         M\n",
      "4         F\n",
      "Name: SEXO, dtype: category\n",
      "Categories (12, object): [F, FEMENINO, HOMBRE, Hombre, ..., femenino, masculino, mujer, varón]\n",
      "Empty DataFrame\n",
      "Columns: [CLIENTE_CC, FECHA_ALTA, FECHA_NACIMIENTO, SEXO, ESTADO_CIVIL, SITUACION_LABORAL, fuga, MES_DE_FUGA]\n",
      "Index: []\n"
     ]
    }
   ],
   "source": [
    "# Ahora para la columna sexo. Primero se convierte a category type para visualizar las categorías.\n",
    "Base_ID['SEXO'] =Base_ID['SEXO'].astype('category')\n",
    "print(Base_ID['SEXO'].head())\n",
    "\n",
    "#Se crean dos variables para distinguir las diferentes formas de referirse a hombre o mujer.\n",
    "categorias_sexo_f =('F','FEMENINO','MUJER','Mujer','femenino','mujer')\n",
    "categorias_sexo_m =('HOMBRE','Hombre','M','Masc.','masculino','varón')\n",
    "\n",
    "#Se reemplazan las cateogíras para que Hombre se represente como \"M\" y mujer como \"F\"\n",
    "Base_ID['SEXO']=Base_ID['SEXO'].replace(regex=categorias_sexo_m,value='M')\n",
    "Base_ID['SEXO']=Base_ID['SEXO'].replace(regex=categorias_sexo_f,value='F')\n",
    "\n",
    "#Se verifica que no exista ninguna fila NaN en la columna 'SEXO'\n",
    "print(Base_ID.loc[pd.isnull(Base_ID['SEXO'])])\n"
   ]
  },
  {
   "cell_type": "code",
   "execution_count": 164,
   "metadata": {},
   "outputs": [
    {
     "name": "stdout",
     "output_type": "stream",
     "text": [
      "0         CASADO\n",
      "1    UNION LIBRE\n",
      "2    UNION LIBRE\n",
      "3         CASADO\n",
      "4         CASADO\n",
      "Name: ESTADO_CIVIL, dtype: category\n",
      "Categories (6, object): [CASADO, DIVORCIADO, SEPARADO, SOLTERO, UNION LIBRE, VIUDO]\n",
      "    CLIENTE_CC FECHA_ALTA FECHA_NACIMIENTO SEXO ESTADO_CIVIL  \\\n",
      "124        125 1997-09-12       1994-05-03    F          NaN   \n",
      "149        150 1997-05-21       1994-05-03    M          NaN   \n",
      "677        678 2002-02-27       1994-05-03    M          NaN   \n",
      "687        688 2002-02-27       1994-05-03    F          NaN   \n",
      "710        711 2005-09-07       2005-07-22    M          NaN   \n",
      "747        748 2002-02-27       1994-05-03    F          NaN   \n",
      "755        756 2002-02-27       1930-09-01    M          NaN   \n",
      "758        759 2002-02-27       1994-05-03    M          NaN   \n",
      "775        776 2002-02-27       1939-09-22    F          NaN   \n",
      "781        782 2002-02-27       1994-05-03    F          NaN   \n",
      "787        788 1999-09-22       1994-05-03    F          NaN   \n",
      "798        799 2002-02-27       1994-05-03    M          NaN   \n",
      "804        805 2002-02-27       1934-08-05    F          NaN   \n",
      "818        819 2002-02-27       1994-05-03    M          NaN   \n",
      "840        841 2002-02-27       1940-12-08    F          NaN   \n",
      "843        844 2002-02-27       1994-05-03    M          NaN   \n",
      "846        847 2002-02-27       1994-05-03    F          NaN   \n",
      "895        896 2002-05-16       1998-12-24    M          NaN   \n",
      "\n",
      "    SITUACION_LABORAL  fuga MES_DE_FUGA  \n",
      "124    desconocido      NaN         NaN  \n",
      "149     temporal        NaN         NaN  \n",
      "677    SIN CLASIFICAR   NaN         NaN  \n",
      "687    SIN CLASIFICAR   1.0           3  \n",
      "710             otros   NaN         NaN  \n",
      "747             OTROS   NaN         NaN  \n",
      "755    desconocido      NaN         NaN  \n",
      "758    SIN CLASIFICAR   NaN         NaN  \n",
      "775    desconocido      NaN         NaN  \n",
      "781    SIN CLASIFICAR   NaN         NaN  \n",
      "787             OTROS   NaN         NaN  \n",
      "798    SIN CLASIFICAR   NaN         NaN  \n",
      "804    SIN CLASIFICAR   NaN         NaN  \n",
      "818    SIN CLASIFICAR   NaN         NaN  \n",
      "840    SIN CLASIFICAR   NaN         NaN  \n",
      "843    desconocido      NaN         NaN  \n",
      "846    SIN CLASIFICAR   NaN         NaN  \n",
      "895    desconocido      NaN         NaN  \n"
     ]
    }
   ],
   "source": [
    "#Se convierte la columna 'Estado_Civil' a tipo Category para visualizar todas las categorías \n",
    "Base_ID['ESTADO_CIVIL'] =Base_ID['ESTADO_CIVIL'].astype('category')\n",
    "print(Base_ID['ESTADO_CIVIL'].head())\n",
    "\n",
    "#Se imprimen todas las filas que contienen valor NaN\n",
    "print(Base_ID.loc[pd.isnull(Base_ID['ESTADO_CIVIL'])])\n"
   ]
  },
  {
   "cell_type": "code",
   "execution_count": 165,
   "metadata": {},
   "outputs": [
    {
     "name": "stdout",
     "output_type": "stream",
     "text": [
      "Empty DataFrame\n",
      "Columns: [CLIENTE_CC, FECHA_ALTA, FECHA_NACIMIENTO, SEXO, ESTADO_CIVIL, SITUACION_LABORAL, fuga, MES_DE_FUGA]\n",
      "Index: []\n"
     ]
    }
   ],
   "source": [
    "#Teniendo en cuenta el análisis, se descubrió que de estas filas, no se conocen la mayoría de los demás datos.\n",
    "#Por lo tanto se decide quitar estas filas, para mejorar la calidad de los datos.\n",
    "#Se hizo de esta forma, pues lo máximo que permite quitar con drop Python es 8 elementos. \n",
    "\n",
    "Base_ID=Base_ID.drop([124,149,677,687,710,747,755])\n",
    "Base_ID=Base_ID.drop([758,775,781,787,798,804,818])\n",
    "Base_ID=Base_ID.drop([840,843,846,895])                     \n",
    "                    \n",
    "#Se utilizó nuevamente el comando para comprobar que los elementos si habían sido eliminados. \n",
    "print(Base_ID.loc[pd.isnull(Base_ID['ESTADO_CIVIL'])])"
   ]
  },
  {
   "cell_type": "code",
   "execution_count": 166,
   "metadata": {},
   "outputs": [
    {
     "name": "stdout",
     "output_type": "stream",
     "text": [
      "0                 otros\n",
      "1         Contrato fijo\n",
      "2                 OTROS\n",
      "3                 OTROS\n",
      "4    contrato autonomo.\n",
      "Name: SITUACION_LABORAL, dtype: category\n",
      "Categories (10, object): [desconocido, CONTRATO AUTONOMO, CONTRATO FIJO, CONTRATO TEMPORAL, ..., SIN CLASIFICAR, contrato autonomo., otros, temporal]\n",
      "Empty DataFrame\n",
      "Columns: [CLIENTE_CC, FECHA_ALTA, FECHA_NACIMIENTO, SEXO, ESTADO_CIVIL, SITUACION_LABORAL, fuga, MES_DE_FUGA]\n",
      "Index: []\n"
     ]
    }
   ],
   "source": [
    "#Para Estado Civil, reemplazar los tipos de categoría que fueron iguales\n",
    "#En primer lugar, se convirtió el tipo de variable a 'category' y luego se imprimió el encabezado para conocer\n",
    "#las categorías\n",
    "\n",
    "Base_ID['SITUACION_LABORAL'] =Base_ID['SITUACION_LABORAL'].astype('category')\n",
    "print(Base_ID['SITUACION_LABORAL'].head())\n",
    "\n",
    "#Se comprueba que no hay NaN en SITUACION_LABORAL\n",
    "print(Base_ID.loc[pd.isnull(Base_ID['SITUACION_LABORAL'])])\n",
    "\n",
    "categorias_desco=(' desconocido','SIN CLASIFICAR','DESCONOCIDO','desconocido')\n",
    "categorias_desco2=('temporal','CONTRATO TEMPORAL')\n",
    "\n",
    "#Código utilizado para eliminar los espacios en los valorse de la columna\n",
    "Base_ID['SITUACION_LABORAL']=Base_ID['SITUACION_LABORAL'].str.strip()\n",
    "\n",
    "#Se reemplazan las categorías que significan lo mismo, por valores en mayúsculas conocidos, para el análisis\n",
    "Base_ID['SITUACION_LABORAL']=Base_ID['SITUACION_LABORAL'].replace(regex=categorias_desco,value='DESCONOCIDO')\n",
    "Base_ID['SITUACION_LABORAL']=Base_ID['SITUACION_LABORAL'].replace(regex='otros',value='OTROS')\n",
    "Base_ID['SITUACION_LABORAL']=Base_ID['SITUACION_LABORAL'].replace(regex='contrato autonomo.',value='CONTRATO AUTONOMO')\n",
    "Base_ID['SITUACION_LABORAL']=Base_ID['SITUACION_LABORAL'].replace(regex=categorias_desco2,value='CONTRATO TEMPORAL')\n",
    "Base_ID['SITUACION_LABORAL']=Base_ID['SITUACION_LABORAL'].replace(regex='Contrato fijo',value='CONTRATO FIJO')"
   ]
  },
  {
   "cell_type": "code",
   "execution_count": 167,
   "metadata": {},
   "outputs": [
    {
     "name": "stdout",
     "output_type": "stream",
     "text": [
      "0                OTROS\n",
      "1        CONTRATO FIJO\n",
      "2                OTROS\n",
      "3                OTROS\n",
      "4    CONTRATO AUTONOMO\n",
      "Name: SITUACION_LABORAL, dtype: category\n",
      "Categories (5, object): [CONTRATO AUTONOMO, CONTRATO FIJO, CONTRATO TEMPORAL, DESCONOCIDO, OTROS]\n"
     ]
    }
   ],
   "source": [
    "#Para comprobar si funcionó\n",
    "Base_ID['SITUACION_LABORAL'] =Base_ID['SITUACION_LABORAL'].astype('category')\n",
    "print(Base_ID['SITUACION_LABORAL'].head())\n",
    "\n",
    "#Del resultado, se puede comprobar que ahora solo existen 5 categorías y están en mayúsculas, viéndose más organizada\n",
    "#la información."
   ]
  },
  {
   "cell_type": "code",
   "execution_count": 168,
   "metadata": {},
   "outputs": [
    {
     "name": "stdout",
     "output_type": "stream",
     "text": [
      "0    1.0\n",
      "1    NaN\n",
      "2    1.0\n",
      "3    NaN\n",
      "4    NaN\n",
      "Name: fuga, dtype: category\n",
      "Categories (1, float64): [1.0]\n",
      "  CLIENTE_CC FECHA_ALTA FECHA_NACIMIENTO SEXO ESTADO_CIVIL  SITUACION_LABORAL  \\\n",
      "1          2 1986-05-01       1953-06-30    M  UNION LIBRE      CONTRATO FIJO   \n",
      "3          4 1997-08-27       1939-05-03    M       CASADO              OTROS   \n",
      "4          5 1997-07-21       1931-10-13    F       CASADO  CONTRATO AUTONOMO   \n",
      "6          7 1997-01-14       1936-09-17    M      SOLTERO              OTROS   \n",
      "7          8 1997-09-12       1962-05-23    M       CASADO      CONTRATO FIJO   \n",
      "\n",
      "  fuga MES_DE_FUGA  \n",
      "1  NaN         NaN  \n",
      "3  NaN         NaN  \n",
      "4  NaN         NaN  \n",
      "6  NaN         NaN  \n",
      "7  NaN         NaN  \n",
      "   CLIENTE_CC FECHA_ALTA FECHA_NACIMIENTO SEXO ESTADO_CIVIL  \\\n",
      "0           1 1996-09-30       1930-08-23    F       CASADO   \n",
      "2           3 1994-12-01       1954-07-21    F  UNION LIBRE   \n",
      "5           6 1997-06-13       1941-05-27    F       CASADO   \n",
      "31         32 1997-06-13       1969-12-23    M       CASADO   \n",
      "43         44 1997-07-29       1961-08-18    F       CASADO   \n",
      "\n",
      "    SITUACION_LABORAL fuga MES_DE_FUGA  \n",
      "0               OTROS  1.0           2  \n",
      "2               OTROS  1.0          11  \n",
      "5               OTROS  1.0          11  \n",
      "31  CONTRATO AUTONOMO  1.0           7  \n",
      "43      CONTRATO FIJO  1.0           6  \n"
     ]
    }
   ],
   "source": [
    "#Para la columna de fuga se siguió el mismo procedimiento. Convertir a catego\n",
    "Base_ID['fuga'] =Base_ID['fuga'].astype('category')\n",
    "#Para determinar las categorías de Situacion_Laboral\n",
    "print(Base_ID['fuga'].head())\n",
    "#Del resultado, se puede ver que fugados solo se divide en 1 o 0, como una Dummy Variable para saber si están fugados\n",
    "#o no están fugados. \n",
    "\n",
    "#Con base en esta información, se divide la información en dos grupos: fugados y no fugadospara el análisis\n",
    "\n",
    "no_fugados=Base_ID.loc[pd.isnull(Base_ID['fuga'])]\n",
    "print(no_fugados.head())\n",
    "fugados= Base_ID.loc[pd.notnull(Base_ID['fuga'])]\n",
    "print(fugados.head())"
   ]
  },
  {
   "cell_type": "code",
   "execution_count": 169,
   "metadata": {},
   "outputs": [
    {
     "name": "stdout",
     "output_type": "stream",
     "text": [
      "0      2\n",
      "1    NaN\n",
      "2     11\n",
      "3    NaN\n",
      "4    NaN\n",
      "Name: MES_DE_FUGA, dtype: category\n",
      "Categories (13, object): [1, 10, 11, 12, ..., 7, 8, 9, F]\n"
     ]
    },
    {
     "name": "stderr",
     "output_type": "stream",
     "text": [
      "/Users/AlejandroBuitrago/anaconda3/lib/python3.7/site-packages/ipykernel_launcher.py:7: SettingWithCopyWarning: \n",
      "A value is trying to be set on a copy of a slice from a DataFrame.\n",
      "Try using .loc[row_indexer,col_indexer] = value instead\n",
      "\n",
      "See the caveats in the documentation: http://pandas.pydata.org/pandas-docs/stable/indexing.html#indexing-view-versus-copy\n",
      "  import sys\n"
     ]
    }
   ],
   "source": [
    "#Para Mes de Fuga\n",
    "\n",
    "Base_ID['MES_DE_FUGA']=Base_ID['MES_DE_FUGA'].astype('category')\n",
    "print(Base_ID['MES_DE_FUGA'].head())\n",
    "\n",
    "#De los resultados, se puede ver que el único valor que no corresponde es 'F'. Se reemplaza por Febrero para análisis\n",
    "no_fugados['MES_DE_FUGA']=no_fugados['MES_DE_FUGA'].replace(regex='F',value=2)\n"
   ]
  },
  {
   "cell_type": "code",
   "execution_count": 170,
   "metadata": {},
   "outputs": [],
   "source": [
    "#Es necesario eliminar las categorías que se dejaron de utilizar en la columna de sexo\n",
    "#Para el subset 'fugados'\n",
    "\n",
    "fugados=fugados.query('SEXO != \"FEMENINO\"')\n",
    "fugados['SEXO']=fugados['SEXO'].cat.remove_categories('FEMENINO')\n",
    "\n",
    "fugados=fugados.query('SEXO != \"HOMBRE\"')\n",
    "fugados['SEXO']=fugados['SEXO'].cat.remove_categories('HOMBRE')\n",
    "\n",
    "fugados=fugados.query('SEXO != \"Hombre\"')\n",
    "fugados['SEXO']=fugados['SEXO'].cat.remove_categories('Hombre')\n",
    "\n",
    "fugados=fugados.query('SEXO != \"MUJER\"')\n",
    "fugados['SEXO']=fugados['SEXO'].cat.remove_categories('MUJER')\n",
    "\n",
    "fugados=fugados.query('SEXO != \"Masc.\"')\n",
    "fugados['SEXO']=fugados['SEXO'].cat.remove_categories('Masc.')\n",
    "\n",
    "fugados=fugados.query('SEXO != \"Mujer\"')\n",
    "fugados['SEXO']=fugados['SEXO'].cat.remove_categories('Mujer')\n",
    "\n",
    "fugados=fugados.query('SEXO != \"femenino\"')\n",
    "fugados['SEXO']=fugados['SEXO'].cat.remove_categories('femenino')\n",
    "\n",
    "fugados=fugados.query('SEXO != \"masculino\"')\n",
    "fugados['SEXO']=fugados['SEXO'].cat.remove_categories('masculino')\n",
    "\n",
    "fugados=fugados.query('SEXO != \"mujer\"')\n",
    "fugados['SEXO']=fugados['SEXO'].cat.remove_categories('mujer')\n",
    "\n",
    "fugados=fugados.query('SEXO != \"varón\"')\n",
    "fugados['SEXO']=fugados['SEXO'].cat.remove_categories('varón')\n",
    "\n",
    "#Ahora para subset no fugados\n",
    "\n",
    "no_fugados=no_fugados.query('SEXO != \"FEMENINO\"')\n",
    "no_fugados['SEXO']=no_fugados['SEXO'].cat.remove_categories('FEMENINO')\n",
    "\n",
    "no_fugados=no_fugados.query('SEXO != \"HOMBRE\"')\n",
    "no_fugados['SEXO']=no_fugados['SEXO'].cat.remove_categories('HOMBRE')\n",
    "\n",
    "no_fugados=no_fugados.query('SEXO != \"Hombre\"')\n",
    "no_fugados['SEXO']=no_fugados['SEXO'].cat.remove_categories('Hombre')\n",
    "\n",
    "no_fugados=no_fugados.query('SEXO != \"MUJER\"')\n",
    "no_fugados['SEXO']=no_fugados['SEXO'].cat.remove_categories('MUJER')\n",
    "\n",
    "no_fugados=no_fugados.query('SEXO != \"Masc.\"')\n",
    "no_fugados['SEXO']=no_fugados['SEXO'].cat.remove_categories('Masc.')\n",
    "\n",
    "no_fugados=no_fugados.query('SEXO != \"Mujer\"')\n",
    "no_fugados['SEXO']=no_fugados['SEXO'].cat.remove_categories('Mujer')\n",
    "\n",
    "no_fugados=no_fugados.query('SEXO != \"femenino\"')\n",
    "no_fugados['SEXO']=no_fugados['SEXO'].cat.remove_categories('femenino')\n",
    "\n",
    "no_fugados=no_fugados.query('SEXO != \"masculino\"')\n",
    "no_fugados['SEXO']=no_fugados['SEXO'].cat.remove_categories('masculino')\n",
    "\n",
    "no_fugados=no_fugados.query('SEXO != \"mujer\"')\n",
    "no_fugados['SEXO']=no_fugados['SEXO'].cat.remove_categories('mujer')\n",
    "\n",
    "no_fugados=no_fugados.query('SEXO != \"varón\"')\n",
    "no_fugados['SEXO']=no_fugados['SEXO'].cat.remove_categories('varón')"
   ]
  },
  {
   "cell_type": "code",
   "execution_count": 171,
   "metadata": {},
   "outputs": [
    {
     "data": {
      "image/png": "[encoded data removed]",
      "text/plain": [
       "<Figure size 432x288 with 1 Axes>"
      ]
     },
     "metadata": {
      "needs_background": "light"
     },
     "output_type": "display_data"
    },
    {
     "data": {
      "image/png": "[encoded data removed]",
      "text/plain": [
       "<Figure size 432x288 with 1 Axes>"
      ]
     },
     "metadata": {
      "needs_background": "light"
     },
     "output_type": "display_data"
    }
   ],
   "source": [
    "#Se importa librería para crear gráficos\n",
    "import matplotlib.pyplot as plt\n",
    "\n",
    "#Código para generar un diagrama de barras. Se busca que en el mismo resultado esté la distribución de clientes\n",
    "#fugados y NO fugados para comparar el comportamiento.\n",
    "\n",
    "counts=fugados['SEXO'].value_counts()\n",
    "counts.plot(kind='bar')\n",
    "plt.title('Distribución por sexo de clientes fugados')\n",
    "plt.ylabel('Número de Clientes')\n",
    "plt.xlabel('Sexo')\n",
    "plt.show()\n",
    "\n",
    "\n",
    "\n",
    "counts=no_fugados['SEXO'].value_counts()\n",
    "counts.plot(kind='bar')\n",
    "plt.title('Distribución por sexo de clientes NO fugados')\n",
    "plt.ylabel('Número de Clientes')\n",
    "plt.xlabel('Sexo')\n",
    "plt.show()"
   ]
  },
  {
   "cell_type": "code",
   "execution_count": 172,
   "metadata": {},
   "outputs": [
    {
     "data": {
      "image/png": "[encoded data removed]",
      "text/plain": [
       "<Figure size 432x288 with 1 Axes>"
      ]
     },
     "metadata": {
      "needs_background": "light"
     },
     "output_type": "display_data"
    },
    {
     "data": {
      "image/png": "[encoded data removed]",
      "text/plain": [
       "<Figure size 432x288 with 1 Axes>"
      ]
     },
     "metadata": {
      "needs_background": "light"
     },
     "output_type": "display_data"
    }
   ],
   "source": [
    "counts=fugados['ESTADO_CIVIL'].value_counts()\n",
    "counts.plot(kind='bar')\n",
    "plt.title('Distribución por Estado Civil de clientes fugados')\n",
    "plt.ylabel('Número de Clientes')\n",
    "plt.xlabel('Estado Civil')\n",
    "plt.show()\n",
    "\n",
    "counts=no_fugados['ESTADO_CIVIL'].value_counts()\n",
    "counts.plot(kind='bar')\n",
    "plt.title('Distribución por Estado Civil de clientes NO fugados')\n",
    "plt.ylabel('Número de Clientes')\n",
    "plt.xlabel('Estado Civil')\n",
    "plt.show()\n"
   ]
  },
  {
   "cell_type": "code",
   "execution_count": 173,
   "metadata": {},
   "outputs": [
    {
     "data": {
      "image/png": "[encoded data removed]",
      "text/plain": [
       "<Figure size 432x288 with 1 Axes>"
      ]
     },
     "metadata": {
      "needs_background": "light"
     },
     "output_type": "display_data"
    },
    {
     "data": {
      "image/png": "[encoded data removed]",
      "text/plain": [
       "<Figure size 432x288 with 1 Axes>"
      ]
     },
     "metadata": {
      "needs_background": "light"
     },
     "output_type": "display_data"
    }
   ],
   "source": [
    "counts=fugados['SITUACION_LABORAL'].value_counts()\n",
    "counts.plot(kind='bar')\n",
    "plt.title('Distribución por Situación Laboral de clientes NO fugados')\n",
    "plt.ylabel('Número de Clientes')\n",
    "plt.xlabel('Estado Civil')\n",
    "plt.show()\n",
    "\n",
    "counts=no_fugados['SITUACION_LABORAL'].value_counts()\n",
    "counts.plot(kind='bar')\n",
    "plt.title('Distribución por Situación Laboral de clientes NO fugados')\n",
    "plt.ylabel('Número de Clientes')\n",
    "plt.xlabel('Estado Civil')\n",
    "plt.show()"
   ]
  },
  {
   "cell_type": "code",
   "execution_count": 174,
   "metadata": {},
   "outputs": [
    {
     "data": {
      "image/png": "[encoded data removed]",
      "text/plain": [
       "<Figure size 432x288 with 1 Axes>"
      ]
     },
     "metadata": {
      "needs_background": "light"
     },
     "output_type": "display_data"
    }
   ],
   "source": [
    "#Se reemplazó la numeración de número de meses por el nombre completo, para mayor claridad en la presentación de resultados.\n",
    "\n",
    "meses=('Enero','Febrero','Marzo','Abril','Mayo','Junio','Julio','Agosto','Septiembre','Octubre','Noviembre','Diciembre')\n",
    "meses2=('1','2','3','4','5','6','7','8','9','10','11','12')\n",
    "fugados['MES_DE_FUGA']=fugados['MES_DE_FUGA'].replace(meses2,meses)\n",
    "\n",
    "counts=fugados['MES_DE_FUGA'].value_counts()\n",
    "counts.plot(kind='bar')\n",
    "plt.title('Distribución por Mes de Fuga')\n",
    "plt.ylabel('Número de Clientes')\n",
    "plt.show()"
   ]
  },
  {
   "cell_type": "code",
   "execution_count": 175,
   "metadata": {},
   "outputs": [
    {
     "data": {
      "text/plain": [
       "(array([  1.,   1.,   4.,  68.,  54.,  77.,  47.,  73., 137., 259.]),\n",
       " array([725339. , 726437.5, 727536. , 728634.5, 729733. , 730831.5,\n",
       "        731930. , 733028.5, 734127. , 735225.5, 736324. ]),\n",
       " <a list of 10 Patch objects>)"
      ]
     },
     "execution_count": 175,
     "metadata": {},
     "output_type": "execute_result"
    },
    {
     "data": {
      "image/png": "[encoded data removed]",
      "text/plain": [
       "<Figure size 432x288 with 1 Axes>"
      ]
     },
     "metadata": {
      "needs_background": "light"
     },
     "output_type": "display_data"
    }
   ],
   "source": [
    "plt.hist(fugados['FECHA_ALTA'])"
   ]
  },
  {
   "cell_type": "code",
   "execution_count": 176,
   "metadata": {},
   "outputs": [
    {
     "data": {
      "text/plain": [
       "(array([  4.,   1.,   1.,   1.,   5., 204., 364., 228., 347., 606.]),\n",
       " array([719194., 720906., 722618., 724330., 726042., 727754., 729466.,\n",
       "        731178., 732890., 734602., 736314.]),\n",
       " <a list of 10 Patch objects>)"
      ]
     },
     "execution_count": 176,
     "metadata": {},
     "output_type": "execute_result"
    },
    {
     "data": {
      "image/png": "[encoded data removed]",
      "text/plain": [
       "<Figure size 432x288 with 1 Axes>"
      ]
     },
     "metadata": {
      "needs_background": "light"
     },
     "output_type": "display_data"
    }
   ],
   "source": [
    "plt.hist(no_fugados['FECHA_ALTA'])"
   ]
  },
  {
   "cell_type": "code",
   "execution_count": 177,
   "metadata": {},
   "outputs": [
    {
     "data": {
      "text/plain": [
       "(array([  5.,  14.,  29.,  56.,  95., 113., 129., 162., 112.,   6.]),\n",
       " array([701904. , 705019.2, 708134.4, 711249.6, 714364.8, 717480. ,\n",
       "        720595.2, 723710.4, 726825.6, 729940.8, 733056. ]),\n",
       " <a list of 10 Patch objects>)"
      ]
     },
     "execution_count": 177,
     "metadata": {},
     "output_type": "execute_result"
    },
    {
     "data": {
      "image/png": "[encoded data removed]",
      "text/plain": [
       "<Figure size 432x288 with 1 Axes>"
      ]
     },
     "metadata": {
      "needs_background": "light"
     },
     "output_type": "display_data"
    }
   ],
   "source": [
    "plt.hist(fugados['FECHA_NACIMIENTO'])"
   ]
  },
  {
   "cell_type": "code",
   "execution_count": 178,
   "metadata": {},
   "outputs": [
    {
     "data": {
      "text/plain": [
       "(array([  5.,  43., 154., 294., 273., 287., 351., 311.,  32.,  11.]),\n",
       " array([699527. , 703140.5, 706754. , 710367.5, 713981. , 717594.5,\n",
       "        721208. , 724821.5, 728435. , 732048.5, 735662. ]),\n",
       " <a list of 10 Patch objects>)"
      ]
     },
     "execution_count": 178,
     "metadata": {},
     "output_type": "execute_result"
    },
    {
     "data": {
      "image/png": "[encoded data removed]",
      "text/plain": [
       "<Figure size 432x288 with 1 Axes>"
      ]
     },
     "metadata": {
      "needs_background": "light"
     },
     "output_type": "display_data"
    }
   ],
   "source": [
    "plt.hist(no_fugados['FECHA_NACIMIENTO'])"
   ]
  },
  {
   "cell_type": "code",
   "execution_count": null,
   "metadata": {},
   "outputs": [],
   "source": []
  }
 ],
 "metadata": {
  "kernelspec": {
   "display_name": "Python 3",
   "language": "python",
   "name": "python3"
  }
 },
 "nbformat": 4,
 "nbformat_minor": 2
}

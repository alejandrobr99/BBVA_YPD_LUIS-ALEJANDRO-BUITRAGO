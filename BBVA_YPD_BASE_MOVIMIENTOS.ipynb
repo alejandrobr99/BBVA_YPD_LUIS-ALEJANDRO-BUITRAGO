{
 "cells": [
  {
   "cell_type": "code",
   "execution_count": 123,
   "metadata": {},
   "outputs": [
    {
     "name": "stdout",
     "output_type": "stream",
     "text": [
      "['00003' '01JUL2017:00:00:00' '3340' '0,00' '$' '876.047,06' '$' '0,00'\n",
      " '0' '0' '0' '0' '0' '0' '0' '876047,06' '3340']\n",
      "<class 'numpy.ndarray'>\n"
     ]
    },
    {
     "data": {
      "text/plain": [
       "31440"
      ]
     },
     "execution_count": 123,
     "metadata": {},
     "output_type": "execute_result"
    }
   ],
   "source": [
    "# En este código se resumirá el proceso llevado a cabo hasta lo que fue posible desarrollar a la fecha\n",
    "\n",
    "#Se importaron las librerías a utilizar\n",
    "import pandas as pd\n",
    "import numpy as np\n",
    "from datetime import datetime\n",
    "\n",
    "#Se importó la información. Los títulos no se importaron, pues no funcionaba muy bien. Se decidió hacerlo de esta manera\n",
    "#para luego importar los títulos de las columnas manualmente\n",
    "\n",
    "mov=np.loadtxt('YPD_LuisBuitrago/BASE_MOVIMIENTOS.txt',skiprows=1,dtype=str)\n",
    "print (mov[0])\n",
    "print(type(mov))\n",
    "len(mov)"
   ]
  },
  {
   "cell_type": "code",
   "execution_count": 124,
   "metadata": {},
   "outputs": [
    {
     "name": "stdout",
     "output_type": "stream",
     "text": [
      "      ID   FECHA_INFORMACION SALDO_AHORROS SALDO_FONDOS  x SALDO_CREDITO1  y  \\\n",
      "0  00003  01JUL2017:00:00:00          3340         0,00  $     876.047,06  $   \n",
      "1  00171  01MAY2017:00:00:00   1.07013e+06         0,00  $   7.828.500,12  $   \n",
      "2  00313  01OCT2017:00:00:00             0         0,00  $           0,00  $   \n",
      "3  00644  01MAY2017:00:00:00       2204.88         0,00  $   8.863.156,75  $   \n",
      "4  01445  01DEC2016:00:00:00        692926         0,00  $           0,00  $   \n",
      "\n",
      "  SALDO_CREDITO2 SALDO_TARJETA MONTO_COMPRAS1 MONTO_CAJERO1 MONTO_COMPRAS2  \\\n",
      "0           0,00             0              0             0              0   \n",
      "1           0,00             0              0             0              0   \n",
      "2           0,00             0              0             0              0   \n",
      "3           0,00   2.15317e+06         359023             0           8000   \n",
      "4           0,00             0              0             0              0   \n",
      "\n",
      "  MONTO_CAJERO2 MONTO_ABONOS_NOMINA INDICADOR_MORA SALDO_ACTIVO SALDO_PASIVO  \n",
      "0             0                   0              0    876047,06         3340  \n",
      "1        460000              897220              0   7828500,12   1070133,18  \n",
      "2             0                   0              0            0            0  \n",
      "3        160000              748000              0  11016329,89      2204,88  \n",
      "4             0              606720              0            0    692926,32  \n"
     ]
    }
   ],
   "source": [
    "#Se generó una variable de nombres para luego cambiar el data type a dataframe e incluir los nombres de las columnas\n",
    "#Se definió una variable 'x' y 'y', para luego ser combinadas en una sola con las columnas de saldo de crédito\n",
    "\n",
    "nombres=['ID','FECHA_INFORMACION','SALDO_AHORROS','SALDO_FONDOS','x','SALDO_CREDITO1','y','SALDO_CREDITO2','SALDO_TARJETA','MONTO_COMPRAS1','MONTO_CAJERO1','MONTO_COMPRAS2','MONTO_CAJERO2','MONTO_ABONOS_NOMINA','INDICADOR_MORA','SALDO_ACTIVO','SALDO_PASIVO']\n",
    "mov_df=pd.DataFrame(mov,columns=nombres)\n",
    "print(mov_df.head())\n"
   ]
  },
  {
   "cell_type": "code",
   "execution_count": 125,
   "metadata": {},
   "outputs": [
    {
     "name": "stdout",
     "output_type": "stream",
     "text": [
      "9     1186420.0\n",
      "10    1038930.0\n",
      "17    3407330.0\n",
      "19    1197110.0\n",
      "20    1469220.0\n",
      "Name: MONTO_ABONOS_NOMINA, dtype: float64\n",
      "10550\n",
      "0         0.0\n",
      "1    897220.0\n",
      "2         0.0\n",
      "3    748000.0\n",
      "4    606720.0\n",
      "Name: MONTO_ABONOS_NOMINA, dtype: float64\n"
     ]
    },
    {
     "data": {
      "text/plain": [
       "20890"
      ]
     },
     "execution_count": 125,
     "metadata": {},
     "output_type": "execute_result"
    }
   ],
   "source": [
    "#Casi todos los datos son numéricos, por lo que no hay tanta necesidad de hacer una limpieza como en el caso anterior.\n",
    "#En primer lugar se debe determinar lo que se considera como cliente_target.\n",
    "#A continuación el código para cumplir con la primera condición, es decir, que reciba un valor de nómina superior a 1000000\n",
    "\n",
    "abonos_nomina=mov_df['MONTO_ABONOS_NOMINA'].astype(float)\n",
    "cond_1= abonos_nomina>=1000000\n",
    "target_1 =abonos_nomina.loc[cond_1]\n",
    "print(target_1.head())\n",
    "print(len(target_1))\n",
    "no_target_1=abonos_nomina.loc[cond_1==False]\n",
    "print(no_target_1.head())\n",
    "len(no_target_1)"
   ]
  },
  {
   "cell_type": "code",
   "execution_count": 126,
   "metadata": {},
   "outputs": [],
   "source": [
    "\n",
    "\n"
   ]
  },
  {
   "cell_type": "code",
   "execution_count": 127,
   "metadata": {},
   "outputs": [
    {
     "name": "stdout",
     "output_type": "stream",
     "text": [
      "0    JUL\n",
      "1    MAY\n",
      "2    OCT\n",
      "3    MAY\n",
      "4    DEC\n",
      "Name: FECHA_INFORMACION, dtype: object\n",
      "0    2017\n",
      "1    2017\n",
      "2    2017\n",
      "3    2017\n",
      "4    2016\n",
      "Name: FECHA_INFORMACION, dtype: object\n",
      "0    07\n",
      "1    05\n",
      "2    10\n",
      "3    05\n",
      "4    12\n",
      "Name: FECHA_INFORMACION, dtype: object\n",
      "0    07-01-2017\n",
      "1    05-01-2017\n",
      "2    10-01-2017\n",
      "3    05-01-2017\n",
      "4    12-01-2016\n",
      "Name: FECHA_INFORMACION, dtype: object\n"
     ]
    }
   ],
   "source": [
    "#Para la segunda condición, es necesario realizar un loop, que recorra las columnas de saldos y calcule el\n",
    "#promedio de los tres meses anteriores.\n",
    "\n",
    "#Se intentó un método similar para convertir la Fecha_Informacion en type Data, pero no se logró solucionar el\n",
    "#error que no deja avanzar. \n",
    "\n",
    "#Acá sería segunda condición para considerar un target\n",
    "\n",
    "fecha_edit=mov_df['FECHA_INFORMACION'].map(lambda x:str(x)[0:9])\n",
    "dia_fecha_edit=fecha_edit.map(lambda x:str(x)[0:2])\n",
    "mes_fecha_edit=fecha_edit.map(lambda x:str(x)[2:5])\n",
    "año_fecha_edit=fecha_edit.map(lambda x:str(x)[5:9])\n",
    "print(mes_fecha_edit.head())\n",
    "print(año_fecha_edit.head())\n",
    "months=('ENE','FEB','MAR','ABR','MAY','JUN','JUL','AGO','SEP','OCT','NOV','DEC')\n",
    "months2=(1,2,3,4,5,6,7,8,9,10,11,12)\n",
    "months3=('01','02','03','04','05','06','07','08','09','10','11','12')\n",
    "mes_fecha_edit=mes_fecha_edit.replace(months,months3)\n",
    "print(mes_fecha_edit2.head())\n",
    "\n",
    "fecha=mes_fecha_edit.astype(str).str.cat(dia_fecha_edit.astype(str),sep='-')\n",
    "fecha=fecha.str.cat(año_fecha_edit.astype(str),sep='-')\n",
    "\n",
    "print(fecha.head())\n",
    "\n"
   ]
  },
  {
   "cell_type": "code",
   "execution_count": 128,
   "metadata": {},
   "outputs": [
    {
     "ename": "ValueError",
     "evalue": "time data 'APR-01-2017' does not match format '%m-%d-%Y' (match)",
     "output_type": "error",
     "traceback": [
      "\u001b[0;31m---------------------------------------------------------------------------\u001b[0m",
      "\u001b[0;31mTypeError\u001b[0m                                 Traceback (most recent call last)",
      "\u001b[0;32m~/anaconda3/lib/python3.7/site-packages/pandas/core/tools/datetimes.py\u001b[0m in \u001b[0;36m_convert_listlike\u001b[0;34m(arg, box, format, name, tz)\u001b[0m\n\u001b[1;32m    376\u001b[0m             \u001b[0;32mtry\u001b[0m\u001b[0;34m:\u001b[0m\u001b[0;34m\u001b[0m\u001b[0;34m\u001b[0m\u001b[0m\n\u001b[0;32m--> 377\u001b[0;31m                 \u001b[0mvalues\u001b[0m\u001b[0;34m,\u001b[0m \u001b[0mtz\u001b[0m \u001b[0;34m=\u001b[0m \u001b[0mconversion\u001b[0m\u001b[0;34m.\u001b[0m\u001b[0mdatetime_to_datetime64\u001b[0m\u001b[0;34m(\u001b[0m\u001b[0marg\u001b[0m\u001b[0;34m)\u001b[0m\u001b[0;34m\u001b[0m\u001b[0;34m\u001b[0m\u001b[0m\n\u001b[0m\u001b[1;32m    378\u001b[0m                 \u001b[0;32mreturn\u001b[0m \u001b[0mDatetimeIndex\u001b[0m\u001b[0;34m.\u001b[0m\u001b[0m_simple_new\u001b[0m\u001b[0;34m(\u001b[0m\u001b[0mvalues\u001b[0m\u001b[0;34m,\u001b[0m \u001b[0mname\u001b[0m\u001b[0;34m=\u001b[0m\u001b[0mname\u001b[0m\u001b[0;34m,\u001b[0m \u001b[0mtz\u001b[0m\u001b[0;34m=\u001b[0m\u001b[0mtz\u001b[0m\u001b[0;34m)\u001b[0m\u001b[0;34m\u001b[0m\u001b[0;34m\u001b[0m\u001b[0m\n",
      "\u001b[0;32mpandas/_libs/tslibs/conversion.pyx\u001b[0m in \u001b[0;36mpandas._libs.tslibs.conversion.datetime_to_datetime64\u001b[0;34m()\u001b[0m\n",
      "\u001b[0;31mTypeError\u001b[0m: Unrecognized value type: <class 'str'>",
      "\nDuring handling of the above exception, another exception occurred:\n",
      "\u001b[0;31mValueError\u001b[0m                                Traceback (most recent call last)",
      "\u001b[0;32m<ipython-input-128-c9141216b960>\u001b[0m in \u001b[0;36m<module>\u001b[0;34m\u001b[0m\n\u001b[0;32m----> 1\u001b[0;31m \u001b[0mfecha_edit\u001b[0m \u001b[0;34m=\u001b[0m \u001b[0mpd\u001b[0m\u001b[0;34m.\u001b[0m\u001b[0mto_datetime\u001b[0m\u001b[0;34m(\u001b[0m\u001b[0mfecha\u001b[0m\u001b[0;34m,\u001b[0m \u001b[0mformat\u001b[0m\u001b[0;34m=\u001b[0m\u001b[0;34m'%m-%d-%Y'\u001b[0m\u001b[0;34m)\u001b[0m\u001b[0;34m\u001b[0m\u001b[0;34m\u001b[0m\u001b[0m\n\u001b[0m",
      "\u001b[0;32m~/anaconda3/lib/python3.7/site-packages/pandas/core/tools/datetimes.py\u001b[0m in \u001b[0;36mto_datetime\u001b[0;34m(arg, errors, dayfirst, yearfirst, utc, box, format, exact, unit, infer_datetime_format, origin, cache)\u001b[0m\n\u001b[1;32m    449\u001b[0m         \u001b[0;32melse\u001b[0m\u001b[0;34m:\u001b[0m\u001b[0;34m\u001b[0m\u001b[0;34m\u001b[0m\u001b[0m\n\u001b[1;32m    450\u001b[0m             \u001b[0;32mfrom\u001b[0m \u001b[0mpandas\u001b[0m \u001b[0;32mimport\u001b[0m \u001b[0mSeries\u001b[0m\u001b[0;34m\u001b[0m\u001b[0;34m\u001b[0m\u001b[0m\n\u001b[0;32m--> 451\u001b[0;31m             \u001b[0mvalues\u001b[0m \u001b[0;34m=\u001b[0m \u001b[0m_convert_listlike\u001b[0m\u001b[0;34m(\u001b[0m\u001b[0marg\u001b[0m\u001b[0;34m.\u001b[0m\u001b[0m_values\u001b[0m\u001b[0;34m,\u001b[0m \u001b[0;32mTrue\u001b[0m\u001b[0;34m,\u001b[0m \u001b[0mformat\u001b[0m\u001b[0;34m)\u001b[0m\u001b[0;34m\u001b[0m\u001b[0;34m\u001b[0m\u001b[0m\n\u001b[0m\u001b[1;32m    452\u001b[0m             \u001b[0mresult\u001b[0m \u001b[0;34m=\u001b[0m \u001b[0mSeries\u001b[0m\u001b[0;34m(\u001b[0m\u001b[0mvalues\u001b[0m\u001b[0;34m,\u001b[0m \u001b[0mindex\u001b[0m\u001b[0;34m=\u001b[0m\u001b[0marg\u001b[0m\u001b[0;34m.\u001b[0m\u001b[0mindex\u001b[0m\u001b[0;34m,\u001b[0m \u001b[0mname\u001b[0m\u001b[0;34m=\u001b[0m\u001b[0marg\u001b[0m\u001b[0;34m.\u001b[0m\u001b[0mname\u001b[0m\u001b[0;34m)\u001b[0m\u001b[0;34m\u001b[0m\u001b[0;34m\u001b[0m\u001b[0m\n\u001b[1;32m    453\u001b[0m     \u001b[0;32melif\u001b[0m \u001b[0misinstance\u001b[0m\u001b[0;34m(\u001b[0m\u001b[0marg\u001b[0m\u001b[0;34m,\u001b[0m \u001b[0;34m(\u001b[0m\u001b[0mABCDataFrame\u001b[0m\u001b[0;34m,\u001b[0m \u001b[0mMutableMapping\u001b[0m\u001b[0;34m)\u001b[0m\u001b[0;34m)\u001b[0m\u001b[0;34m:\u001b[0m\u001b[0;34m\u001b[0m\u001b[0;34m\u001b[0m\u001b[0m\n",
      "\u001b[0;32m~/anaconda3/lib/python3.7/site-packages/pandas/core/tools/datetimes.py\u001b[0m in \u001b[0;36m_convert_listlike\u001b[0;34m(arg, box, format, name, tz)\u001b[0m\n\u001b[1;32m    378\u001b[0m                 \u001b[0;32mreturn\u001b[0m \u001b[0mDatetimeIndex\u001b[0m\u001b[0;34m.\u001b[0m\u001b[0m_simple_new\u001b[0m\u001b[0;34m(\u001b[0m\u001b[0mvalues\u001b[0m\u001b[0;34m,\u001b[0m \u001b[0mname\u001b[0m\u001b[0;34m=\u001b[0m\u001b[0mname\u001b[0m\u001b[0;34m,\u001b[0m \u001b[0mtz\u001b[0m\u001b[0;34m=\u001b[0m\u001b[0mtz\u001b[0m\u001b[0;34m)\u001b[0m\u001b[0;34m\u001b[0m\u001b[0;34m\u001b[0m\u001b[0m\n\u001b[1;32m    379\u001b[0m             \u001b[0;32mexcept\u001b[0m \u001b[0;34m(\u001b[0m\u001b[0mValueError\u001b[0m\u001b[0;34m,\u001b[0m \u001b[0mTypeError\u001b[0m\u001b[0;34m)\u001b[0m\u001b[0;34m:\u001b[0m\u001b[0;34m\u001b[0m\u001b[0;34m\u001b[0m\u001b[0m\n\u001b[0;32m--> 380\u001b[0;31m                 \u001b[0;32mraise\u001b[0m \u001b[0me\u001b[0m\u001b[0;34m\u001b[0m\u001b[0;34m\u001b[0m\u001b[0m\n\u001b[0m\u001b[1;32m    381\u001b[0m \u001b[0;34m\u001b[0m\u001b[0m\n\u001b[1;32m    382\u001b[0m     \u001b[0;32mif\u001b[0m \u001b[0marg\u001b[0m \u001b[0;32mis\u001b[0m \u001b[0;32mNone\u001b[0m\u001b[0;34m:\u001b[0m\u001b[0;34m\u001b[0m\u001b[0;34m\u001b[0m\u001b[0m\n",
      "\u001b[0;32m~/anaconda3/lib/python3.7/site-packages/pandas/core/tools/datetimes.py\u001b[0m in \u001b[0;36m_convert_listlike\u001b[0;34m(arg, box, format, name, tz)\u001b[0m\n\u001b[1;32m    345\u001b[0m                     \u001b[0;32mtry\u001b[0m\u001b[0;34m:\u001b[0m\u001b[0;34m\u001b[0m\u001b[0;34m\u001b[0m\u001b[0m\n\u001b[1;32m    346\u001b[0m                         result = array_strptime(arg, format, exact=exact,\n\u001b[0;32m--> 347\u001b[0;31m                                                 errors=errors)\n\u001b[0m\u001b[1;32m    348\u001b[0m                     \u001b[0;32mexcept\u001b[0m \u001b[0mtslib\u001b[0m\u001b[0;34m.\u001b[0m\u001b[0mOutOfBoundsDatetime\u001b[0m\u001b[0;34m:\u001b[0m\u001b[0;34m\u001b[0m\u001b[0;34m\u001b[0m\u001b[0m\n\u001b[1;32m    349\u001b[0m                         \u001b[0;32mif\u001b[0m \u001b[0merrors\u001b[0m \u001b[0;34m==\u001b[0m \u001b[0;34m'raise'\u001b[0m\u001b[0;34m:\u001b[0m\u001b[0;34m\u001b[0m\u001b[0;34m\u001b[0m\u001b[0m\n",
      "\u001b[0;32mpandas/_libs/tslibs/strptime.pyx\u001b[0m in \u001b[0;36mpandas._libs.tslibs.strptime.array_strptime\u001b[0;34m()\u001b[0m\n",
      "\u001b[0;31mValueError\u001b[0m: time data 'APR-01-2017' does not match format '%m-%d-%Y' (match)"
     ]
    }
   ],
   "source": [
    "fecha_edit = pd.to_datetime(fecha, format='%m-%d-%Y')\n"
   ]
  },
  {
   "cell_type": "code",
   "execution_count": 129,
   "metadata": {},
   "outputs": [
    {
     "name": "stdout",
     "output_type": "stream",
     "text": [
      "0      $ 876.047,06\n",
      "1    $ 7.828.500,12\n",
      "2            $ 0,00\n",
      "3    $ 8.863.156,75\n",
      "4            $ 0,00\n",
      "dtype: object\n"
     ]
    }
   ],
   "source": [
    "#Este es el código que se utilizaría para unir las columnas de saldos con las creadas 'x' y 'y' para cargar los documentos\n",
    "df2=df['x'].map(str)+' ' +df['SALDO_CREDITO1']\n",
    "print(df2.head())"
   ]
  },
  {
   "cell_type": "code",
   "execution_count": null,
   "metadata": {},
   "outputs": [],
   "source": []
  }
 ],
 "metadata": {
  "kernelspec": {
   "display_name": "Python 3",
   "language": "python",
   "name": "python3"
  },
  "language_info": {
   "codemirror_mode": {
    "name": "ipython",
    "version": 3
   },
   "file_extension": ".py",
   "mimetype": "text/x-python",
   "name": "python",
   "nbconvert_exporter": "python",
   "pygments_lexer": "ipython3",
   "version": "3.7.1"
  }
 },
 "nbformat": 4,
 "nbformat_minor": 2
}
